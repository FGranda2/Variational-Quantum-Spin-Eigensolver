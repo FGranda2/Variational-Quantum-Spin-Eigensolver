{
 "cells": [
  {
   "cell_type": "markdown",
   "metadata": {},
   "source": [
    "## CLASSIQ 2024 MEGA CHALLENGE SOLUTION\n",
    "Author: Francisco Granda\n",
    "\n",
    "Welcome to my solution for the Classiq 2024 mega challenge. Through this journey, we'll follow the implementation of the Symmetry Enhanced Quantum Spin Eigensolver and analyze the results for the following circuits: \n",
    "\n",
    "- Hardware-Efficient Ansatz Circuit\n",
    "- $S_z$-Conserving Ansatz Circuit\n",
    "- $S_{\\text{tot}}$-Conserving Ansatz Circuit\n",
    "\n",
    "Before we start, we need some proper tools:"
   ]
  },
  {
   "cell_type": "code",
   "execution_count": 56,
   "metadata": {},
   "outputs": [],
   "source": [
    "# Handle imports\n",
    "from classiq import * # Using Classiq Version 0.52.0 Release\n",
    "import numpy as np\n",
    "from typing import cast, List\n",
    "from classiq.execution import ExecutionPreferences\n",
    "import matplotlib.pyplot as plt\n",
    "import json\n",
    "import os"
   ]
  },
  {
   "cell_type": "markdown",
   "metadata": {},
   "source": [
    "Then, the circuit implementations can be created using Classiq's quantum functions. First, we start with the entangling gate between two Qubits. Here it is important to notice that Chufan Lyu et al. use one parameter for all the rotations in the gate, in this case called \"layer\". This gate will be used throughout this solution so we define it here first:"
   ]
  },
  {
   "cell_type": "code",
   "execution_count": 42,
   "metadata": {},
   "outputs": [],
   "source": [
    "# N block function\n",
    "@qfunc\n",
    "def N_block(q0: QBit, q1: QBit, layer: CReal) -> None:\n",
    "    RZ(np.pi / 2, q1)\n",
    "\n",
    "    CX(q1, q0)\n",
    "     \n",
    "    RZ(2 * layer - np.pi/2, q0)\n",
    "    RY(np.pi / 2 - 2 * layer, q1)\n",
    "    \n",
    "    CX(q0, q1)\n",
    "\n",
    "    RY(2 * layer - np.pi/2, q1)\n",
    "\n",
    "    CX(q1, q0)\n",
    "    RZ(-np.pi / 2, q0)"
   ]
  },
  {
   "cell_type": "markdown",
   "metadata": {},
   "source": [
    "After this, we can build the main layer of the hardware-efficient Ansatz:"
   ]
  },
  {
   "cell_type": "code",
   "execution_count": 43,
   "metadata": {},
   "outputs": [],
   "source": [
    "# Main ansatz layer\n",
    "@qfunc\n",
    "def hw_efficient_layer(q: QArray, params: CArray[CReal]) -> None:\n",
    "    # Apply the rotations first\n",
    "    param_idx = 0\n",
    "\n",
    "    # Start with the RY's\n",
    "    for i in range(n_bits):\n",
    "        RY(params[param_idx], q[i])\n",
    "        param_idx += 1\n",
    "\n",
    "    # Continue with the RZ's\n",
    "    for i in range(n_bits):\n",
    "        RZ(params[param_idx], q[i])\n",
    "        param_idx += 1\n",
    "\n",
    "    # Apply the Hadamard/CNOT chains\n",
    "    for i in range(0,n_bits-1):\n",
    "        hadamard_transform(q[i+1])\n",
    "        CX(q[i],q[i+1])\n",
    "        hadamard_transform(q[i+1])"
   ]
  },
  {
   "cell_type": "markdown",
   "metadata": {},
   "source": [
    "Then we proceed with the main layer for the $S_z$-Conserving Ansatz:"
   ]
  },
  {
   "cell_type": "code",
   "execution_count": 44,
   "metadata": {},
   "outputs": [],
   "source": [
    "# Main ansatz layer\n",
    "@qfunc\n",
    "def Sz_conserving_layer(q: QArray, params: CArray[CReal]) -> None:\n",
    "    # Apply the N_block layer for entangling\n",
    "    param_idx = 0\n",
    "    for i in range(0, n_bits, 2):\n",
    "        N_block(q[i],q[i+1], params[param_idx])\n",
    "        param_idx += 1\n",
    "\n",
    "    for i in range(1, n_bits - 1, 2):\n",
    "        N_block(q[i],q[i+1], params[param_idx])\n",
    "        param_idx += 1\n",
    "\n",
    "    # Apply the Phase Gates\n",
    "    for i in range(n_bits):\n",
    "        PHASE(params[(n_bits-1)+i], q[i])"
   ]
  },
  {
   "cell_type": "markdown",
   "metadata": {},
   "source": [
    "Finally, the layer for the $S_{\\text{tot}}$-Conserving Ansatz is defined:"
   ]
  },
  {
   "cell_type": "code",
   "execution_count": 45,
   "metadata": {},
   "outputs": [],
   "source": [
    "# Main ansatz layer\n",
    "@qfunc\n",
    "def Stot_conserving_layer(q: QArray, params: CArray[CReal]) -> None:\n",
    "    # Apply the N_block layer for entangling\n",
    "    param_idx = 0\n",
    "    for i in range(0, n_bits, 2):\n",
    "        N_block(q[i],q[i+1], params[param_idx])\n",
    "        param_idx += 1\n",
    "\n",
    "    for i in range(1, n_bits - 1, 2):\n",
    "        N_block(q[i],q[i+1], params[param_idx])\n",
    "        param_idx += 1"
   ]
  },
  {
   "cell_type": "markdown",
   "metadata": {},
   "source": [
    "Before we continue, the $S_{\\text{tot}}$-Conserving Ansatz needs an additional initialization block. This is defined as follows:"
   ]
  },
  {
   "cell_type": "code",
   "execution_count": 46,
   "metadata": {},
   "outputs": [],
   "source": [
    "# Initialization circuit layer\n",
    "@qfunc\n",
    "def Init(q: QArray) -> None:\n",
    "    # First, do PauliX on all qubits\n",
    "    for i in range(n_bits):\n",
    "        X(q[i])\n",
    "\n",
    "    # Next, add the Hadamards and CNOT\n",
    "    for i in range(0, n_bits, 2):\n",
    "        hadamard_transform(q[i])\n",
    "        CX(q[i],q[i + 1])"
   ]
  },
  {
   "cell_type": "markdown",
   "metadata": {},
   "source": [
    "Now, we need to switch gears and focus on the creation of the Hamiltonian that will act as the observable for the optimization. For this, Pauli strings can be created to define the actions over the Qubits:"
   ]
  },
  {
   "cell_type": "code",
   "execution_count": 47,
   "metadata": {},
   "outputs": [],
   "source": [
    "# Function to build the Paulis string\n",
    "def build_pauli_string(N: int, J: float) -> list[tuple[str, float]]:\n",
    "    pauli_list = []\n",
    "    \n",
    "    # Loop over each neighboring pair of spins (i, i+1)\n",
    "    for i in range(N-1):\n",
    "        # Create Pauli strings \n",
    "        for pauli in ['X', 'Y', 'Z']:\n",
    "            # Identity for other positions, Pauli for position i and i+1\n",
    "            identity = ['I'] * N\n",
    "            identity[i] = pauli\n",
    "            identity[i+1] = pauli\n",
    "            \n",
    "            # Join Pauli string and add it to the list with coefficient J\n",
    "            pauli_string = ''.join(identity)\n",
    "            pauli_list.append((pauli_string, J))\n",
    "    \n",
    "    return pauli_list"
   ]
  },
  {
   "cell_type": "markdown",
   "metadata": {},
   "source": [
    "This looks great, but it is not enough by itself. To proceed, the operations need to be translated into Classiq classes:"
   ]
  },
  {
   "cell_type": "code",
   "execution_count": 48,
   "metadata": {},
   "outputs": [],
   "source": [
    "# Definition of Pauli Terms\n",
    "CHAR_TO_STUCT_DICT = {\"I\": Pauli.I, \"X\": Pauli.X, \"Y\": Pauli.Y, \"Z\": Pauli.Z}\n",
    "\n",
    "# Functions for creating the Hamiltonian from the Paulis String\n",
    "def pauli_str_to_enums(pauli):\n",
    "    return [CHAR_TO_STUCT_DICT[s] for s in pauli]"
   ]
  },
  {
   "cell_type": "markdown",
   "metadata": {},
   "source": [
    "Great! Now we can finally build our Hamiltonian:"
   ]
  },
  {
   "cell_type": "code",
   "execution_count": 49,
   "metadata": {},
   "outputs": [],
   "source": [
    "def pauli_list_to_hamiltonian(pauli_list):\n",
    "    return [\n",
    "        PauliTerm(\n",
    "            pauli=pauli_str_to_enums(pauli), coefficient=cast(complex, coeff).real\n",
    "        )\n",
    "        for pauli, coeff in pauli_list\n",
    "    ]"
   ]
  },
  {
   "cell_type": "markdown",
   "metadata": {},
   "source": [
    "Now, we need to define some variables for the experiments:"
   ]
  },
  {
   "cell_type": "code",
   "execution_count": 50,
   "metadata": {},
   "outputs": [],
   "source": [
    "# Circuit design variables\n",
    "n_bits = 4\n",
    "n_layers = 5\n",
    "J = 1"
   ]
  },
  {
   "cell_type": "markdown",
   "metadata": {},
   "source": [
    "Also, it will be useful to identify and define the number of parameters that the circuits will have based on the chosen Ansatz and number of layers and Qubits. We start with the hardware-efficient Ansatz:"
   ]
  },
  {
   "cell_type": "code",
   "execution_count": 51,
   "metadata": {},
   "outputs": [],
   "source": [
    "# For HW-Efficient\n",
    "param_per_layer = n_bits * 2 # The RY's and RZ's\n",
    "num_parameters = param_per_layer*n_layers\n",
    "JOB_NAME = \"\".join((\"HW_efficient | \",\"N_bits:\",str(n_bits),\" Layers:\",str(n_layers)))"
   ]
  },
  {
   "cell_type": "markdown",
   "metadata": {},
   "source": [
    "Then we move on to build the Hamiltonian and create a vector of random initial values for the optimization process and create Quantum Function for the main circuit:"
   ]
  },
  {
   "cell_type": "code",
   "execution_count": 52,
   "metadata": {},
   "outputs": [],
   "source": [
    "# Create the pauli list\n",
    "pauli_list = build_pauli_string(n_bits,J)\n",
    "# Create the Hamiltonian\n",
    "heis_ham = pauli_list_to_hamiltonian(pauli_list)\n",
    "# Defining the Hamiltonian from the problem\n",
    "HAMILTONIAN = QConstant(\"HAMILTONIAN\", List[PauliTerm], heis_ham)\n",
    "\n",
    "# Defining the initial parameter values\n",
    "X0 = list(np.random.rand(num_parameters) * np.pi)\n",
    "INITIAL_POINT = QConstant(\"INITIAL_POINT\", List[float],X0)\n",
    "\n",
    "# Defining the Ansatz for the Problem\n",
    "@qfunc\n",
    "def main(q: Output[QArray], p: CArray[CReal, num_parameters]) -> None:\n",
    "    allocate(n_bits, q)\n",
    "    # Prepare the initial state\n",
    "    # [1010....10]\n",
    "    for i in range(n_bits):\n",
    "        if i % 2 != 0:\n",
    "            X(q[i])\n",
    "\n",
    "    # Do n layers of the Sz_conserving Ansatz\n",
    "    for i in range(n_layers):\n",
    "        start_index = i * param_per_layer\n",
    "        end_index = start_index + param_per_layer\n",
    "        hw_efficient_layer(q, p[start_index:end_index])"
   ]
  },
  {
   "cell_type": "markdown",
   "metadata": {},
   "source": [
    "At this point, we can proceed with a classical function to solve the hybrid optimization problem. For this we can use Classiq's VQE execution primitive to find a solution:"
   ]
  },
  {
   "cell_type": "code",
   "execution_count": 53,
   "metadata": {},
   "outputs": [],
   "source": [
    "# Defining the Variational Quantum Eigensolver primitives with proper parameters\n",
    "@cfunc\n",
    "def cmain() -> None:\n",
    "    res = vqe(\n",
    "        hamiltonian=HAMILTONIAN,\n",
    "        maximize=False,\n",
    "        initial_point=INITIAL_POINT,\n",
    "        optimizer=Optimizer.COBYLA, # Classical Optimizer\n",
    "        max_iteration=5000,\n",
    "        tolerance=1e-06,\n",
    "        step_size=0,\n",
    "        skip_compute_variance=False,\n",
    "        alpha_cvar=1,\n",
    "    )\n",
    "    save({\"result\": res})"
   ]
  },
  {
   "cell_type": "markdown",
   "metadata": {},
   "source": [
    "Then we proceed with creating the model, synthesizing, and execution. The steps in this notebook can be modified and run to observe results for different Qubit numbers and layers"
   ]
  },
  {
   "cell_type": "code",
   "execution_count": 54,
   "metadata": {},
   "outputs": [
    {
     "name": "stdout",
     "output_type": "stream",
     "text": [
      "Minimal energy of the Hamiltonian -5.256\n"
     ]
    }
   ],
   "source": [
    "# Model, preferences and synthesize\n",
    "qmod = create_model(main, classical_execution_function=cmain)\n",
    "qmod_prefs = set_execution_preferences(\n",
    "    qmod,\n",
    "    ExecutionPreferences(num_shots=10000, job_name=JOB_NAME),\n",
    ")\n",
    "qprog = synthesize(qmod_prefs)\n",
    "\n",
    "# Execution\n",
    "estimation = execute(qprog)\n",
    "vqe_result = estimation.result()[0].value\n",
    "print(\"Minimal energy of the Hamiltonian\", vqe_result.energy)"
   ]
  },
  {
   "cell_type": "markdown",
   "metadata": {},
   "source": [
    "For the hardware-efficient Ansatz we can obtain the following results:"
   ]
  },
  {
   "cell_type": "code",
   "execution_count": 71,
   "metadata": {},
   "outputs": [
    {
     "data": {
      "image/png": "[encoded data removed]",
      "text/plain": [
       "<Figure size 600x400 with 1 Axes>"
      ]
     },
     "metadata": {},
     "output_type": "display_data"
    }
   ],
   "source": [
    "# X-axis values representing the number of layers\n",
    "layers = [5, 10, 15]\n",
    "energies = [-5.8996, -6.4444, -6.4288]\n",
    "\n",
    "# Plotting\n",
    "plt.figure(figsize=(6, 4))\n",
    "plt.plot(layers, energies, 'o-', color='blue', label='Energy per layer count')\n",
    "\n",
    "# Axis labels\n",
    "plt.xlabel(\"Number of Layers\")\n",
    "plt.ylabel(r\"$\\langle H_0 \\rangle$ (Energy)\")\n",
    "\n",
    "# Set y-axis range\n",
    "plt.ylim(-6.6, -5.5)\n",
    "\n",
    "# Ticks and legend\n",
    "plt.xticks([5, 10, 15])\n",
    "plt.legend()\n",
    "\n",
    "# Title\n",
    "plt.title(\"Hardware-Efficient Ansatz\")\n",
    "\n",
    "# Display the plot\n",
    "plt.show()"
   ]
  },
  {
   "cell_type": "markdown",
   "metadata": {},
   "source": [
    "We analyze that for 5 layers, the results is significantly off from the values show for 10 and 15 layers. \n",
    "\n",
    "Further analysis will be added at the end, but for now let's proceed with the implementation of the $S_z$-Conserving Ansatz:"
   ]
  },
  {
   "cell_type": "code",
   "execution_count": 59,
   "metadata": {},
   "outputs": [
    {
     "name": "stdout",
     "output_type": "stream",
     "text": [
      "Minimal energy of the Hamiltonian -6.4732\n"
     ]
    }
   ],
   "source": [
    "# Determine the # of parameters\n",
    "param_per_layer = (n_bits - 1)+n_bits # The N_Blocks + the Phase gates\n",
    "num_parameters = param_per_layer*n_layers\n",
    "X0 = list(np.random.rand(num_parameters) * 20 * np.pi)\n",
    "INITIAL_POINT = QConstant(\"INITIAL_POINT\", List[float], X0)\n",
    "# Defining the Ansatz for the Problem\n",
    "@qfunc\n",
    "def main(q: Output[QArray], p: CArray[CReal, num_parameters]) -> None:\n",
    "    allocate(n_bits, q)\n",
    "    # Prepare the initial state\n",
    "    # [1010....10]\n",
    "    for i in range(n_bits):\n",
    "        if i % 2 != 0:\n",
    "            X(q[i])\n",
    "\n",
    "    # Do n layers of the Sz_conserving Ansatz\n",
    "    for i in range(n_layers):\n",
    "        start_index = i * param_per_layer\n",
    "        end_index = start_index + param_per_layer\n",
    "        Sz_conserving_layer(q, p[start_index:end_index])\n",
    "\n",
    "# Defining the Variational Quantum Eigensolver primitives with proper paramters\n",
    "@cfunc\n",
    "def cmain() -> None:\n",
    "    res = vqe(\n",
    "        hamiltonian=HAMILTONIAN,\n",
    "        maximize=False,\n",
    "        initial_point=[],\n",
    "        optimizer=Optimizer.COBYLA, # Classical Optimizer\n",
    "        max_iteration=5000,\n",
    "        tolerance=1e-06,\n",
    "        step_size=0,\n",
    "        skip_compute_variance=False,\n",
    "        alpha_cvar=1,\n",
    "    )\n",
    "    save({\"result\": res})\n",
    "\n",
    "# Model, preferences and synthesize\n",
    "qmod = create_model(main, classical_execution_function=cmain)\n",
    "qmod_prefs = set_execution_preferences(\n",
    "    qmod,\n",
    "    ExecutionPreferences(num_shots=10000, job_name=JOB_NAME),\n",
    ")\n",
    "qprog = synthesize(qmod_prefs)\n",
    "\n",
    "# Execution\n",
    "estimation = execute(qprog)\n",
    "vqe_result = estimation.result()[0].value\n",
    "print(\"Minimal energy of the Hamiltonian\", vqe_result.energy)"
   ]
  },
  {
   "cell_type": "markdown",
   "metadata": {},
   "source": [
    "For the $S_z$-Conserving Ansatz: we can obtain the following results:"
   ]
  },
  {
   "cell_type": "code",
   "execution_count": 70,
   "metadata": {},
   "outputs": [
    {
     "data": {
      "image/png": "[encoded data removed]",
      "text/plain": [
       "<Figure size 600x400 with 1 Axes>"
      ]
     },
     "metadata": {},
     "output_type": "display_data"
    }
   ],
   "source": [
    "# X-axis values representing the number of layers\n",
    "layers = [5, 10, 15]\n",
    "energies = [-6.41280, -6.4994, -6.4838]\n",
    "\n",
    "# Plotting\n",
    "plt.figure(figsize=(6, 4))\n",
    "plt.plot(layers, energies, 'o-', color='blue', label='Energy per layer count')\n",
    "\n",
    "# Axis labels\n",
    "plt.xlabel(\"Number of Layers\")\n",
    "plt.ylabel(r\"$\\langle H_0 \\rangle$ (Energy)\")\n",
    "\n",
    "# Set y-axis range\n",
    "plt.ylim(-6.6, -5.5)\n",
    "\n",
    "# Ticks and legend\n",
    "plt.xticks([5, 10, 15])\n",
    "plt.legend()\n",
    "\n",
    "# Title\n",
    "plt.title(\"$S_z$-Conserving Ansatz\")\n",
    "\n",
    "# Display the plot\n",
    "plt.show()"
   ]
  },
  {
   "cell_type": "markdown",
   "metadata": {},
   "source": [
    "Here, it is noticeable that the results are converging to the proper energy value even when 5 layers are used. \n",
    "\n",
    "Let's proceed with the $S_{\\text{tot}}$-Conserving Ansatz:"
   ]
  },
  {
   "cell_type": "code",
   "execution_count": 61,
   "metadata": {},
   "outputs": [
    {
     "name": "stdout",
     "output_type": "stream",
     "text": [
      "Minimal energy of the Hamiltonian -6.496\n"
     ]
    }
   ],
   "source": [
    "# Determine the # of parameters\n",
    "param_per_layer = n_bits - 1 # Just the N_Blocks\n",
    "num_parameters = param_per_layer*n_layers\n",
    "\n",
    "# Defining the initial parameter values\n",
    "X0 = list((np.random.rand(num_parameters) - .5) * np.pi)\n",
    "INITIAL_POINT = QConstant(\"INITIAL_POINT\", List[float],X0)\n",
    "\n",
    "# Defining the Ansatz for the Problem\n",
    "@qfunc\n",
    "def main(q: Output[QArray], p: CArray[CReal, num_parameters]) -> None:\n",
    "    allocate(n_bits, q)\n",
    "    # Prepare the initial state\n",
    "    Init(q)\n",
    "    \n",
    "    # Do n layers of the Sz_conserving Ansatz\n",
    "    for i in range(n_layers):\n",
    "        start_index = i * param_per_layer\n",
    "        end_index = start_index + param_per_layer\n",
    "        Stot_conserving_layer(q, p[start_index:end_index])\n",
    "\n",
    "# Defining the Variational Quantum Eigensolver primitives with proper paramters\n",
    "@cfunc\n",
    "def cmain() -> None:\n",
    "    res = vqe(\n",
    "        hamiltonian=HAMILTONIAN,\n",
    "        maximize=False,\n",
    "        initial_point=[],\n",
    "        optimizer=Optimizer.COBYLA, # Classical Optimizer\n",
    "        max_iteration=5000,\n",
    "        tolerance=1e-06,\n",
    "        step_size=0,\n",
    "        skip_compute_variance=False,\n",
    "        alpha_cvar=1,\n",
    "    )\n",
    "    save({\"result\": res})\n",
    "\n",
    "# Model, preferences and synthesize\n",
    "qmod = create_model(main, classical_execution_function=cmain)\n",
    "qmod_prefs = set_execution_preferences(\n",
    "    qmod,\n",
    "    ExecutionPreferences(num_shots=10000, job_name=JOB_NAME),\n",
    ")\n",
    "qprog = synthesize(qmod_prefs)\n",
    "\n",
    "# Execution\n",
    "estimation = execute(qprog)\n",
    "vqe_result = estimation.result()[0].value\n",
    "print(\"Minimal energy of the Hamiltonian\", vqe_result.energy)"
   ]
  },
  {
   "cell_type": "markdown",
   "metadata": {},
   "source": [
    "For the $S_{\\text{tot}}$-Conserving Ansatz we can obtain the following results:"
   ]
  },
  {
   "cell_type": "code",
   "execution_count": 69,
   "metadata": {},
   "outputs": [
    {
     "data": {
      "image/png": "[encoded data removed]",
      "text/plain": [
       "<Figure size 600x400 with 1 Axes>"
      ]
     },
     "metadata": {},
     "output_type": "display_data"
    }
   ],
   "source": [
    "# X-axis values representing the number of layers\n",
    "layers = [5, 10, 15]\n",
    "energies = [-6.4700, -6.4854, -6.462]\n",
    "\n",
    "# Plotting\n",
    "plt.figure(figsize=(6, 4))\n",
    "plt.plot(layers, energies, 'o-', color='blue', label='Energy per layer count')\n",
    "\n",
    "# Axis labels\n",
    "plt.xlabel(\"Number of Layers\")\n",
    "plt.ylabel(r\"$\\langle H_0 \\rangle$ (Energy)\")\n",
    "\n",
    "# Set y-axis range\n",
    "plt.ylim(-6.6, -5.5)\n",
    "\n",
    "# Ticks and legend\n",
    "plt.xticks([5, 10, 15])\n",
    "plt.legend()\n",
    "\n",
    "# Title\n",
    "plt.title(\"$S_{\\\\text{tot}}$-Conserving Ansatz\")\n",
    "\n",
    "# Display the plot\n",
    "plt.show()"
   ]
  },
  {
   "cell_type": "markdown",
   "metadata": {},
   "source": [
    "Here, we find similar results to the $S_z$-Conserving Ansatz where even 5 layers are able to result in a good estimate of the ground state energy of the system. "
   ]
  },
  {
   "cell_type": "markdown",
   "metadata": {},
   "source": [
    "### PROCESSING TIME AND IMPACT OF INITIAL PARAMETERS\n",
    "\n",
    "The variation of the initial parameters proved to offer some benefits in reducing the processing time until convergence. When the optimal parameters of a previously trained model were used as initial parameters, a time reduction of approximately 26% was observed. \n",
    "\n",
    "However, these results will vary based on the optimizer that is chosen. For instance, gradient based optimizers will be able to converge to a solution almost instantly if the previously trained parameters are used as an initial guess."
   ]
  },
  {
   "cell_type": "markdown",
   "metadata": {},
   "source": [
    "### CONCLUSIONS, FUTURE WORK AND CONTACT\n",
    "The selection of a proper ansatz is crucial when using VQA's for solving optimization problems. In this notebook, we observe results for n_bits = 4 that are following similar trends to the results presented in the paper.\n",
    "\n",
    "As additional test for the implementation proposed in this paper, I prepared the circuits to be used with Pennylane and observed the results for the ground state of a H2 molecule, where great estimates of the ground state energy were obtained. \n",
    "\n",
    "Please do not hesitate to contact me if any additional information is required, I had a blast working on this challenge and really enjoyed making this tutorial/journey through my solution."
   ]
  }
 ],
 "metadata": {
  "kernelspec": {
   "display_name": "classiq_venv",
   "language": "python",
   "name": "python3"
  },
  "language_info": {
   "codemirror_mode": {
    "name": "ipython",
    "version": 3
   },
   "file_extension": ".py",
   "mimetype": "text/x-python",
   "name": "python",
   "nbconvert_exporter": "python",
   "pygments_lexer": "ipython3",
   "version": "3.10.12"
  }
 },
 "nbformat": 4,
 "nbformat_minor": 2
}

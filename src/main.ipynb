{
 "cells": [
  {
   "cell_type": "markdown",
   "metadata": {},
   "source": [
    "## Classiq Implementation For The Research Paper: Symmetry enhanced variational quantum spin eigensolver"
   ]
  },
  {
   "cell_type": "code",
   "execution_count": 37,
   "metadata": {},
   "outputs": [],
   "source": [
    "# Handle imports\n",
    "from classiq import * # Using Classiq Version 0.52.0 Release\n",
    "import numpy as np\n",
    "# import scipy as sp"
   ]
  },
  {
   "cell_type": "code",
   "execution_count": 38,
   "metadata": {},
   "outputs": [],
   "source": [
    "# Circuit design variables\n",
    "n_bits = 4\n",
    "n_layers = 5\n",
    "\n",
    "# Dummy parameters for testing implementation of ciruit\n",
    "theta_1 = np.pi\n",
    "theta_2 = np.pi\n",
    "theta_3 = np.pi\n",
    "theta_4 = np.pi\n",
    "theta_5 = np.pi\n",
    "theta_6 = np.pi\n",
    "theta_7 = np.pi\n",
    "\n",
    "training_params = [theta_1,theta_2,theta_3,theta_4,theta_5,theta_6,theta_7]\n",
    "\n",
    "# Initialization circuit layer\n",
    "@qfunc\n",
    "def Init(q: QArray) -> None:\n",
    "    # First, do PauliX on all qubits\n",
    "    for i in range(n_bits):\n",
    "        X(q[i])\n",
    "\n",
    "    # Next, add the Hadamards and CNOT\n",
    "    for i in range(0, n_bits, 2):\n",
    "        hadamard_transform(q[i])\n",
    "        CX(q[i],q[i + 1])\n",
    "\n",
    "\n",
    "# N block function\n",
    "@qfunc\n",
    "def N_block(q0: QBit, q1: QBit, param: CReal) -> None:\n",
    "    RZ(np.pi / 2, q1)\n",
    "\n",
    "    CX(q1, q0)\n",
    "     \n",
    "    RZ(2 * param - np.pi/2, q0)\n",
    "    RY(np.pi / 2 - 2 * param, q1)\n",
    "    \n",
    "    CX(q0, q1)\n",
    "\n",
    "    RY(2 * param - np.pi/2, q1)\n",
    "\n",
    "    CX(q1, q0)\n",
    "    RZ(-np.pi / 2, q0)\n",
    "\n",
    "\n",
    "# Main ansatz layer\n",
    "@qfunc\n",
    "def Sz_conserving_layer(q: QArray, params: CArray[CReal]) -> None:\n",
    "    # Apply the N_block layer for entangling\n",
    "    N_block(q[0],q[1], params[0])\n",
    "    N_block(q[2],q[3], params[1])\n",
    "    N_block(q[1],q[2], params[2])\n",
    "\n",
    "    # Apply the Phase Gates\n",
    "    for i in range(n_bits):\n",
    "        PHASE(params[3+i], q[i])\n",
    "\n",
    "# Main Program\n",
    "@qfunc\n",
    "def main():\n",
    "    # Create the array of bits of proper size\n",
    "    q = QArray(\"q\")\n",
    "    allocate(n_bits, q)\n",
    "\n",
    "    # Do the initialization circuit\n",
    "    Init(q)\n",
    "\n",
    "    # Do n layers of the Sz_conserving Ansatz\n",
    "    for _ in range(n_layers):\n",
    "        Sz_conserving_layer(q,training_params)\n"
   ]
  },
  {
   "cell_type": "code",
   "execution_count": 39,
   "metadata": {},
   "outputs": [
    {
     "name": "stderr",
     "output_type": "stream",
     "text": [
      "/usr/bin/xdg-open: 882: x-www-browser: Permission denied\n",
      "/usr/bin/xdg-open: 882: firefox: Permission denied\n",
      "/usr/bin/xdg-open: 882: iceweasel: Permission denied\n",
      "/usr/bin/xdg-open: 882: seamonkey: Permission denied\n",
      "/usr/bin/xdg-open: 882: mozilla: Permission denied\n",
      "/usr/bin/xdg-open: 882: epiphany: Permission denied\n",
      "/usr/bin/xdg-open: 882: konqueror: Permission denied\n",
      "/usr/bin/xdg-open: 882: chromium: Permission denied\n",
      "/usr/bin/xdg-open: 882: chromium-browser: Permission denied\n",
      "/usr/bin/xdg-open: 882: google-chrome: Permission denied\n",
      "/usr/bin/xdg-open: 882: www-browser: Permission denied\n",
      "/usr/bin/xdg-open: 882: links2: Permission denied\n",
      "/usr/bin/xdg-open: 882: elinks: Permission denied\n",
      "/usr/bin/xdg-open: 882: links: Permission denied\n",
      "/usr/bin/xdg-open: 882: lynx: Permission denied\n",
      "/usr/bin/xdg-open: 882: w3m: Permission denied\n",
      "xdg-open: no method available for opening 'https://platform.classiq.io/circuit/0a3997fc-6789-4604-8fba-67d50ba00cda?version=0.53.0'\n"
     ]
    }
   ],
   "source": [
    "# Simulation\n",
    "mod = create_model(main)\n",
    "qprog = synthesize(mod)\n",
    "show(qprog)"
   ]
  }
 ],
 "metadata": {
  "kernelspec": {
   "display_name": "classiq_venv",
   "language": "python",
   "name": "python3"
  },
  "language_info": {
   "codemirror_mode": {
    "name": "ipython",
    "version": 3
   },
   "file_extension": ".py",
   "mimetype": "text/x-python",
   "name": "python",
   "nbconvert_exporter": "python",
   "pygments_lexer": "ipython3",
   "version": "3.10.12"
  }
 },
 "nbformat": 4,
 "nbformat_minor": 2
}

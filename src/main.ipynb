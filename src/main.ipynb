{
 "cells": [
  {
   "cell_type": "markdown",
   "metadata": {},
   "source": [
    "## Classiq Implementation For The Research Paper: Symmetry enhanced variational quantum spin eigensolver"
   ]
  },
  {
   "cell_type": "code",
   "execution_count": 41,
   "metadata": {},
   "outputs": [],
   "source": [
    "# Handle imports\n",
    "from classiq import * # Using Classiq Version 0.52.0 Release\n",
    "import numpy as np\n",
    "# import scipy as sp"
   ]
  },
  {
   "cell_type": "code",
   "execution_count": 42,
   "metadata": {},
   "outputs": [],
   "source": [
    "n_bits = 4\n",
    "n_layers = 5\n",
    "\n",
    "theta_x = np.pi\n",
    "theta_y = np.pi\n",
    "theta_z = np.pi\n",
    "\n",
    "# theta_x2 = np.pi\n",
    "# theta_y2 = np.pi\n",
    "# theta_z2 = np.pi\n",
    "\n",
    "# theta_x3 = np.pi\n",
    "# theta_y3 = np.pi\n",
    "# theta_z3 = np.pi\n",
    "params = [theta_x,theta_y,theta_z]\n",
    "\n",
    "def N_block(q, params, wires):\n",
    "    \n",
    "    RZ(np.pi / 2, q[wires[1]])\n",
    "\n",
    "    CX(q[wires[1]], q[wires[0]])\n",
    "     \n",
    "    RZ(2* params[2] - np.pi/2,q[wires[0]])\n",
    "    RY(np.pi / 2 - 2*params[0], q[wires[1]])\n",
    "    \n",
    "    CX(q[wires[0]], q[wires[1]])\n",
    "\n",
    "    RY(2* params[1] - np.pi/2,q[wires[1]])\n",
    "\n",
    "    CX(q[wires[1]], q[wires[0]])\n",
    "    RZ(- np.pi / 2, q[wires[0]])\n",
    "\n",
    "@qfunc\n",
    "def main():\n",
    "    q = QArray(\"q\")\n",
    "    allocate(n_bits, q)\n",
    "\n",
    "    # First, do PauliX on all qubits\n",
    "    for i in range(n_bits):\n",
    "        X(q[i])\n",
    "\n",
    "    # Next, add the Hadamards and CNOT\n",
    "    for i in range(0, n_bits, 2):\n",
    "        hadamard_transform(q[i])\n",
    "        CX(q[i],q[i + 1])\n",
    "\n",
    "    N_block(q, params, [0,1])\n"
   ]
  },
  {
   "cell_type": "code",
   "execution_count": 43,
   "metadata": {},
   "outputs": [
    {
     "name": "stderr",
     "output_type": "stream",
     "text": [
      "/usr/bin/xdg-open: 882: x-www-browser: Permission denied\n",
      "/usr/bin/xdg-open: 882: firefox: Permission denied\n",
      "/usr/bin/xdg-open: 882: iceweasel: Permission denied\n",
      "/usr/bin/xdg-open: 882: seamonkey: Permission denied\n",
      "/usr/bin/xdg-open: 882: mozilla: Permission denied\n",
      "/usr/bin/xdg-open: 882: epiphany: Permission denied\n",
      "/usr/bin/xdg-open: 882: konqueror: Permission denied\n",
      "/usr/bin/xdg-open: 882: chromium: Permission denied\n",
      "/usr/bin/xdg-open: 882: chromium-browser: Permission denied\n",
      "/usr/bin/xdg-open: 882: google-chrome: Permission denied\n",
      "/usr/bin/xdg-open: 882: www-browser: Permission denied\n",
      "/usr/bin/xdg-open: 882: links2: Permission denied\n",
      "/usr/bin/xdg-open: 882: elinks: Permission denied\n",
      "/usr/bin/xdg-open: 882: links: Permission denied\n",
      "/usr/bin/xdg-open: 882: lynx: Permission denied\n",
      "/usr/bin/xdg-open: 882: w3m: Permission denied\n",
      "xdg-open: no method available for opening 'https://platform.classiq.io/circuit/02c376b1-fb4f-4ca5-b66c-39eb312bc50d?version=0.52.0'\n"
     ]
    }
   ],
   "source": [
    "# SIM \n",
    "mod = create_model(main) ### Your Answer ###\n",
    "qprog = synthesize(mod)### Your Answer ###\n",
    "show(qprog)"
   ]
  }
 ],
 "metadata": {
  "kernelspec": {
   "display_name": "classiq_venv",
   "language": "python",
   "name": "python3"
  },
  "language_info": {
   "codemirror_mode": {
    "name": "ipython",
    "version": 3
   },
   "file_extension": ".py",
   "mimetype": "text/x-python",
   "name": "python",
   "nbconvert_exporter": "python",
   "pygments_lexer": "ipython3",
   "version": "3.10.12"
  }
 },
 "nbformat": 4,
 "nbformat_minor": 2
}
